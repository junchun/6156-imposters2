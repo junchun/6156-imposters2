{
 "cells": [
  {
   "cell_type": "code",
   "execution_count": 231,
   "id": "separated-serum",
   "metadata": {},
   "outputs": [],
   "source": [
    "import numpy as np\n",
    "import json\n"
   ]
  },
  {
   "cell_type": "code",
   "execution_count": 232,
   "id": "pressed-secretariat",
   "metadata": {},
   "outputs": [],
   "source": [
    "from os import walk\n",
    "X = []\n",
    "for a in range(1,38):\n",
    "    threed = np.zeros((128,128,88))\n",
    "    file_path = \"/Users/yumengluo/Desktop/claire/Columbia/6156/6156-imposters2/encoding_data/\"+str(a)+\"/hw1-0.0.1-SNAPSHOT/controllers.PlayGame/main(String).txt\"\n",
    "    f = open(file_path, \"r\").read()\n",
    "    line = f.split('\\n')\n",
    "    threed = np.zeros((128,128,88))\n",
    "    for i in range(128):\n",
    "        row = line[i][1:-2].split('}\\t{')\n",
    "        for j in range(128):\n",
    "            if row[j] == '':\n",
    "                continue\n",
    "            else:\n",
    "                for k in row[j].split(','):\n",
    "                    threed[i][j][int(k)] = 1\n",
    "   \n",
    "\n",
    "    path = \"/Users/yumengluo/Desktop/claire/Columbia/6156/6156-imposters2/encoding_data/\"+str(a)+\"/hw1-0.0.1-SNAPSHOT/models.GameBoard/\"\n",
    "    files = []\n",
    "    for (dirpath, dirnames, filenames) in walk(path):\n",
    "        files.extend(filenames)\n",
    "\n",
    "    for fi in files:\n",
    "        file_path = path+ fi\n",
    "        f = open(file_path, \"r\").read()\n",
    "        line = f.split('\\n')\n",
    "\n",
    "        for i in range(128):\n",
    "            row = line[i][1:-2].split('}\\t{')\n",
    "            for j in range(128):\n",
    "                if row[j] == '':\n",
    "                    continue\n",
    "                else:\n",
    "                    for k in row[j].split(','):\n",
    "                        threed[i][j][int(k)] += 1\n",
    "                        \n",
    "                        \n",
    "                        \n",
    "    X.append(threed)\n",
    "train_data = np.zeros((37,128))\n",
    "for i in range(len(X)):\n",
    "    train_data[i] = np.sum(np.sum(X[i],axis=0),axis=1)"
   ]
  },
  {
   "cell_type": "code",
   "execution_count": 167,
   "id": "religious-calvin",
   "metadata": {},
   "outputs": [],
   "source": [
    "X = []\n",
    "for a in range(1,38):\n",
    "    file_path = \"/Users/yumengluo/Desktop/claire/Columbia/6156/6156-imposters2/encoding_data/\"+str(a)+\"/hw1-0.0.1-SNAPSHOT/controllers.PlayGame/main(String).txt\"\n",
    "    #outfile = \"/Users/yumengluo/Desktop/claire/Columbia/6156/6156-imposters2/encoding_data/\"+str(i)+\"/main.npz\"\n",
    "    f = open(file_path, \"r\").read()\n",
    "    line = f.split('\\n')\n",
    "    threed = np.zeros((128,128,88))\n",
    "    for i in range(128):\n",
    "        row = line[i][1:-2].split('}\\t{')\n",
    "        for j in range(128):\n",
    "            if row[j] == '':\n",
    "                continue\n",
    "            else:\n",
    "                for k in row[j].split(','):\n",
    "                    threed[i][j][int(k)] = 1\n",
    "    X.append(threed)\n",
    "test_data = np.zeros((37,88))\n",
    "for i in range(len(X)):\n",
    "    test_data[i] = np.sum(np.sum(X[i],axis=0),axis=0)"
   ]
  },
  {
   "cell_type": "code",
   "execution_count": 179,
   "id": "challenging-distinction",
   "metadata": {},
   "outputs": [],
   "source": [
    "cols = np.array([ 0,  1,  2,  6, 11, 12, 18, 19, 20, 24, 29, 30, 65, 68, 72, 75, 81])\n",
    "test_data = test_data[:,cols]"
   ]
  },
  {
   "cell_type": "code",
   "execution_count": 189,
   "id": "interested-shell",
   "metadata": {},
   "outputs": [
    {
     "data": {
      "image/png": "[encoded data removed]",
      "text/plain": [
       "<Figure size 432x288 with 1 Axes>"
      ]
     },
     "metadata": {
      "needs_background": "light"
     },
     "output_type": "display_data"
    }
   ],
   "source": [
    "import matplotlib.pyplot as plt\n",
    "fig, ax = plt.subplots()\n",
    "ax.set_title(\"DeepSim Scaled\")\n",
    "im = ax.imshow(test_data,cmap='viridis')"
   ]
  },
  {
   "cell_type": "code",
   "execution_count": 196,
   "id": "recovered-mystery",
   "metadata": {},
   "outputs": [],
   "source": [
    "file_path = \"dataset/g4_128.npy\"\n",
    "dataset = np.load(file_path,allow_pickle=True)\n",
    "X, y = np.array(dataset['X'],dtype=object), np.array(dataset['y'], dtype=np.int)\n",
    "\n",
    "train_data = np.zeros((160,128))\n",
    "index = np.random.permutation(1669)[:160]\n",
    "X = X[index]\n",
    "y = y[index]\n",
    "for i in range(len(X)):\n",
    "    threed = np.zeros((128,128,88))\n",
    "    for j in range(len(X[i])):\n",
    "        a,b,c = X[i][j]\n",
    "        threed[a][b][c] = 1\n",
    "    train_data[i] = np.sum(np.sum(threed,axis=0),axis=1)"
   ]
  },
  {
   "cell_type": "code",
   "execution_count": 183,
   "id": "anonymous-humor",
   "metadata": {},
   "outputs": [
    {
     "data": {
      "image/png": "[encoded data removed]",
      "text/plain": [
       "<Figure size 432x288 with 1 Axes>"
      ]
     },
     "metadata": {
      "needs_background": "light"
     },
     "output_type": "display_data"
    }
   ],
   "source": [
    "import matplotlib.pyplot as plt\n",
    "fig, ax = plt.subplots()\n",
    "im = ax.imshow(train_data,cmap='viridis')"
   ]
  },
  {
   "cell_type": "code",
   "execution_count": 233,
   "id": "warming-persian",
   "metadata": {},
   "outputs": [
    {
     "data": {
      "text/plain": [
       "(5, 128)"
      ]
     },
     "execution_count": 233,
     "metadata": {},
     "output_type": "execute_result"
    }
   ],
   "source": [
    "test_data.shape"
   ]
  },
  {
   "cell_type": "code",
   "execution_count": null,
   "id": "permanent-tolerance",
   "metadata": {},
   "outputs": [],
   "source": []
  },
  {
   "cell_type": "code",
   "execution_count": 199,
   "id": "descending-access",
   "metadata": {},
   "outputs": [],
   "source": [
    "x = train_data\n",
    "x_train = np.zeros((int(len(x)*(len(x)-1)/2), 256))\n",
    "y_train_label = np.zeros(int((len(x)*(len(x)-1)/2)))\n",
    "for i in range(len(x)):\n",
    "    for j in range(i+1,len(x)):\n",
    "        ind = int((2*len(x)-i-1)*i/2+j-i-1)\n",
    "        x_train[ind][:128]=x[i]\n",
    "        x_train[ind][128:]=x[j]\n",
    "        if y[i]==y[j]:\n",
    "            y_train_label[ind] = 1.0"
   ]
  },
  {
   "cell_type": "code",
   "execution_count": 219,
   "id": "dried-access",
   "metadata": {},
   "outputs": [],
   "source": [
    "x = train_data\n",
    "#x_test = np.zeros((int(len(x)*(len(x)-1)/2), 128))\n",
    "#for i in range(len(x)):\n",
    "#    for j in range(i+1,len(x)):\n",
    "#        ind = int((2*len(x)-i-1)*i/2+j-i-1)\n",
    "#        x_test[ind][:128]=x[i]\n",
    "#        x_test[ind][128:]=x[j]\n",
    "#y_test_label = np.zeros(int((len(x)*(len(x)-1)/2)))\n",
    "\n",
    "#true_matrix = np.zeros((5,5))\n",
    "true = [(2,4),(2,13),(2,19),(4,13),(4,19),(5,19),(9,30),(9,35),(9,36),(9,37),(13,19),(14,30),(16,30),(17,31),(19,31),(20,31),(22,30),(23,31),(30,35),(30,36),(30,37),(35,36),(35,37),(36,37)]\n",
    "y_single_test = np.zeros(37)\n",
    "for a ,b in true:\n",
    "    i,j=a-1,b-1\n",
    "    ind = int((2*len(x)-i-1)*i/2+j-i-1)\n",
    "    #y_test_label[ind]=1\n",
    "    #true_matrix[i][j] = 1\n",
    "    y_single_test[i]=1\n",
    "    y_single_test[j]=1\n",
    "for i in range(5):\n",
    "    for j in range(i+1,5):\n",
    "        true_matrix[i][j]=1"
   ]
  },
  {
   "cell_type": "code",
   "execution_count": 225,
   "id": "super-brunswick",
   "metadata": {},
   "outputs": [],
   "source": [
    "np.savez(\"/Users/yumengluo/Desktop/claire/Columbia/6156/6156-imposters2/encoding_data/ds_train4.npz\",\n",
    "         x_train = train_data,\n",
    "         x_test = test_data,\n",
    "         y_train = y_single_test,\n",
    "        y_test = y_test)"
   ]
  },
  {
   "cell_type": "code",
   "execution_count": 224,
   "id": "young-portuguese",
   "metadata": {},
   "outputs": [],
   "source": [
    "y_test = np.ones(5)"
   ]
  },
  {
   "cell_type": "code",
   "execution_count": 163,
   "id": "unnecessary-dayton",
   "metadata": {},
   "outputs": [
    {
     "data": {
      "text/plain": [
       "(array([ 0,  1,  2,  6, 11, 12, 18, 19, 20, 24, 29, 30, 65, 68, 72, 75, 81]),)"
      ]
     },
     "execution_count": 163,
     "metadata": {},
     "output_type": "execute_result"
    }
   ],
   "source": [
    "np.where(test_data[0])"
   ]
  },
  {
   "cell_type": "code",
   "execution_count": null,
   "id": "structural-longer",
   "metadata": {},
   "outputs": [],
   "source": []
  },
  {
   "cell_type": "code",
   "execution_count": null,
   "id": "dirty-audit",
   "metadata": {},
   "outputs": [],
   "source": []
  },
  {
   "cell_type": "code",
   "execution_count": 14,
   "id": "burning-pipeline",
   "metadata": {},
   "outputs": [
    {
     "data": {
      "text/plain": [
       "(160,)"
      ]
     },
     "execution_count": 14,
     "metadata": {},
     "output_type": "execute_result"
    }
   ],
   "source": []
  },
  {
   "cell_type": "code",
   "execution_count": 51,
   "id": "overhead-midwest",
   "metadata": {
    "scrolled": true
   },
   "outputs": [
    {
     "name": "stdout",
     "output_type": "stream",
     "text": [
      "cp ../../original_github_data/1/src/main/java/controllers/PlayGame.java 1/\n",
      "cp ../../original_github_data/2/src/main/java/controllers/PlayGame.java 2/\n",
      "cp ../../original_github_data/3/src/main/java/controllers/PlayGame.java 3/\n",
      "cp ../../original_github_data/4/src/main/java/controllers/PlayGame.java 4/\n",
      "cp ../../original_github_data/5/src/main/java/controllers/PlayGame.java 5/\n",
      "cp ../../original_github_data/6/src/main/java/controllers/PlayGame.java 6/\n",
      "cp ../../original_github_data/7/src/main/java/controllers/PlayGame.java 7/\n",
      "cp ../../original_github_data/8/src/main/java/controllers/PlayGame.java 8/\n",
      "cp ../../original_github_data/9/src/main/java/controllers/PlayGame.java 9/\n",
      "cp ../../original_github_data/10/src/main/java/controllers/PlayGame.java 10/\n",
      "cp ../../original_github_data/11/src/main/java/controllers/PlayGame.java 11/\n",
      "cp ../../original_github_data/12/src/main/java/controllers/PlayGame.java 12/\n",
      "cp ../../original_github_data/13/src/main/java/controllers/PlayGame.java 13/\n",
      "cp ../../original_github_data/14/src/main/java/controllers/PlayGame.java 14/\n",
      "cp ../../original_github_data/15/src/main/java/controllers/PlayGame.java 15/\n",
      "cp ../../original_github_data/16/src/main/java/controllers/PlayGame.java 16/\n",
      "cp ../../original_github_data/17/src/main/java/controllers/PlayGame.java 17/\n",
      "cp ../../original_github_data/18/src/main/java/controllers/PlayGame.java 18/\n",
      "cp ../../original_github_data/19/src/main/java/controllers/PlayGame.java 19/\n",
      "cp ../../original_github_data/20/src/main/java/controllers/PlayGame.java 20/\n",
      "cp ../../original_github_data/21/src/main/java/controllers/PlayGame.java 21/\n",
      "cp ../../original_github_data/22/src/main/java/controllers/PlayGame.java 22/\n",
      "cp ../../original_github_data/23/src/main/java/controllers/PlayGame.java 23/\n",
      "cp ../../original_github_data/24/src/main/java/controllers/PlayGame.java 24/\n",
      "cp ../../original_github_data/25/src/main/java/controllers/PlayGame.java 25/\n",
      "cp ../../original_github_data/26/src/main/java/controllers/PlayGame.java 26/\n",
      "cp ../../original_github_data/27/src/main/java/controllers/PlayGame.java 27/\n",
      "cp ../../original_github_data/28/src/main/java/controllers/PlayGame.java 28/\n",
      "cp ../../original_github_data/29/src/main/java/controllers/PlayGame.java 29/\n",
      "cp ../../original_github_data/30/src/main/java/controllers/PlayGame.java 30/\n",
      "cp ../../original_github_data/31/src/main/java/controllers/PlayGame.java 31/\n",
      "cp ../../original_github_data/32/src/main/java/controllers/PlayGame.java 32/\n",
      "cp ../../original_github_data/33/src/main/java/controllers/PlayGame.java 33/\n",
      "cp ../../original_github_data/34/src/main/java/controllers/PlayGame.java 34/\n",
      "cp ../../original_github_data/35/src/main/java/controllers/PlayGame.java 35/\n",
      "cp ../../original_github_data/36/src/main/java/controllers/PlayGame.java 36/\n",
      "cp ../../original_github_data/37/src/main/java/controllers/PlayGame.java 37/\n"
     ]
    }
   ],
   "source": [
    "for i in range(1,38):\n",
    "    print(\"cp ../../original_github_data/\"+str(i)+\"/src/main/java/controllers/PlayGame.java \"+str(i)+\"/\")\n",
    "    #print(\" ~/Desktop/claire/Columbia/6156/6156-imposters2/original_github_data/\"+str(i)+\"/src/main/java/controllers/PlayGame.java\\\\\")"
   ]
  },
  {
   "cell_type": "code",
   "execution_count": 52,
   "id": "neither-first",
   "metadata": {},
   "outputs": [
    {
     "data": {
      "text/plain": [
       "'sed -i \\'s/app.post(\"/echo\", ctx -> {/if (app==\"echo\"){/g\\' PlayGame.java'"
      ]
     },
     "execution_count": 52,
     "metadata": {},
     "output_type": "execute_result"
    }
   ],
   "source": [
    "\"sed -i 's/app.post(\\\"/echo\\\", ctx -> {/if (app==\\\"echo\\\"){/g' PlayGame.java\""
   ]
  },
  {
   "cell_type": "code",
   "execution_count": 208,
   "id": "roman-impact",
   "metadata": {},
   "outputs": [
    {
     "data": {
      "text/plain": [
       "(5, 128)"
      ]
     },
     "execution_count": 208,
     "metadata": {},
     "output_type": "execute_result"
    }
   ],
   "source": [
    "test_data.shape"
   ]
  },
  {
   "cell_type": "code",
   "execution_count": 209,
   "id": "another-longer",
   "metadata": {},
   "outputs": [],
   "source": [
    "from sklearn.metrics.pairwise import cosine_similarity\n",
    "cos_matrix = np.zeros((5,5))\n",
    "for  i in range(5):\n",
    "    for j in range(i+1,5):\n",
    "        cos_matrix[i][j] = cosine_similarity([test_data[i]], [test_data[j]]) "
   ]
  },
  {
   "cell_type": "code",
   "execution_count": 212,
   "id": "charged-works",
   "metadata": {},
   "outputs": [
    {
     "data": {
      "image/png": "[encoded data removed]",
      "text/plain": [
       "<Figure size 432x288 with 1 Axes>"
      ]
     },
     "metadata": {
      "needs_background": "light"
     },
     "output_type": "display_data"
    }
   ],
   "source": [
    "fig, ax = plt.subplots()\n",
    "ax.set_title(\"Simulated Gemini\")\n",
    "im = ax.imshow(cos_matrix,cmap='viridis')"
   ]
  },
  {
   "cell_type": "code",
   "execution_count": 213,
   "id": "killing-encoding",
   "metadata": {},
   "outputs": [
    {
     "data": {
      "text/plain": [
       "array([[0.        , 0.87312713, 0.97965611, 0.877077  , 0.877077  ],\n",
       "       [0.        , 0.        , 0.88292851, 0.9720399 , 0.9720399 ],\n",
       "       [0.        , 0.        , 0.        , 0.89485977, 0.89485977],\n",
       "       [0.        , 0.        , 0.        , 0.        , 1.        ],\n",
       "       [0.        , 0.        , 0.        , 0.        , 0.        ]])"
      ]
     },
     "execution_count": 213,
     "metadata": {},
     "output_type": "execute_result"
    }
   ],
   "source": [
    "cos_matrix"
   ]
  },
  {
   "cell_type": "code",
   "execution_count": null,
   "id": "weekly-gentleman",
   "metadata": {},
   "outputs": [],
   "source": []
  }
 ],
 "metadata": {
  "kernelspec": {
   "display_name": "Python 3",
   "language": "python",
   "name": "python3"
  },
  "language_info": {
   "codemirror_mode": {
    "name": "ipython",
    "version": 3
   },
   "file_extension": ".py",
   "mimetype": "text/x-python",
   "name": "python",
   "nbconvert_exporter": "python",
   "pygments_lexer": "ipython3",
   "version": "3.7.10"
  }
 },
 "nbformat": 4,
 "nbformat_minor": 5
}
