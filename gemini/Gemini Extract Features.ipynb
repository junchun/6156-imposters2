{
 "cells": [
  {
   "cell_type": "code",
   "execution_count": 1,
   "metadata": {},
   "outputs": [],
   "source": [
    "import numpy as np\n",
    "import json"
   ]
  },
  {
   "cell_type": "code",
   "execution_count": 2,
   "metadata": {},
   "outputs": [],
   "source": [
    "x =[[[[0, 12], [1, 9], [2, 0], [3, 10], [4, 2], [5, 6], [6, 12], [7, 8], [8, 1], [9, 12]], [[0, 96], [1, 102], [2, 67], [3, 119], [4, 69], [5, 46], [6, 58], [7, 97], [8, 79], [9, 72]]], [[[10, 9], [11, 1], [12, 8], [13, 23], [14, 24], [15, 25], [16, 13], [17, 23], [18, 13], [19, 25]], [[10, 92], [11, 33], [12, 113], [13, 95], [14, 36], [15, 35], [16, 3], [17, 69], [18, 95], [19, 7]]], [[[20, 25], [21, 13], [22, 16], [23, 24], [24, 17], [25, 17], [26, 38], [27, 32], [28, 27], [29, 28]], [[20, 52], [21, 34], [22, 104], [23, 88], [24, 53], [25, 89], [26, 83], [27, 16], [28, 96], [29, 88]]], [[[30, 28], [31, 35], [32, 29], [33, 32], [34, 27], [35, 30], [36, 30], [37, 27], [38, 35], [39, 37]], [[30, 19], [31, 97], [32, 89], [33, 107], [34, 69], [35, 115], [36, 78], [37, 14], [38, 16], [39, 24]]], [[[40, 37], [41, 47], [42, 52], [43, 48], [44, 45], [45, 41], [46, 48], [47, 42], [48, 51], [49, 53]], [[40, 93], [41, 103], [42, 9], [43, 119], [44, 7], [45, 10], [46, 36], [47, 2], [48, 25], [49, 28]]], [[[50, 48], [51, 50], [52, 44], [53, 47], [54, 43], [55, 71], [56, 57], [57, 69], [58, 72], [59, 70]], [[50, 6], [51, 88], [52, 34], [53, 5], [54, 103], [55, 112], [56, 4], [57, 19], [58, 1], [59, 103]]], [[[60, 71], [61, 73], [62, 73], [63, 57], [64, 55], [65, 66], [66, 68], [67, 55], [68, 60], [69, 70]], [[60, 4], [61, 9], [62, 2], [63, 51], [64, 45], [65, 53], [66, 90], [67, 96], [68, 82], [69, 17]]], [[[70, 58], [71, 59], [72, 61], [73, 59], [74, 81], [75, 74], [76, 79], [77, 74], [78, 81], [79, 82]], [[70, 118], [71, 94], [72, 27], [73, 99], [74, 100], [75, 105], [76, 92], [77, 38], [78, 51], [79, 111]]], [[[80, 79], [81, 74], [82, 78], [83, 86], [84, 86], [85, 81], [86, 85], [87, 76], [88, 95], [89, 94]], [[80, 6], [81, 95], [82, 17], [83, 38], [84, 44], [85, 108], [86, 36], [87, 30], [88, 98], [89, 47]]], [[[90, 88], [91, 92], [92, 93], [93, 95], [94, 96], [95, 96], [96, 89], [97, 98], [98, 100], [99, 108]], [[90, 27], [91, 74], [92, 99], [93, 38], [94, 32], [95, 70], [96, 111], [97, 69], [98, 62], [99, 13]]], [[[100, 99], [101, 99], [102, 105], [103, 105], [104, 102], [105, 108], [106, 103], [107, 106], [108, 105], [109, 115]], [[100, 95], [101, 78], [102, 4], [103, 13], [104, 116], [105, 32], [106, 15], [107, 76], [108, 68], [109, 39]]], [[[110, 117], [111, 116], [112, 117], [113, 110], [114, 112], [115, 113], [116, 117], [117, 111], [118, 114], [119, 114]], [[110, 108], [111, 87], [112, 93], [113, 11], [114, 0], [115, 83], [116, 37], [117, 12], [118, 73], [119, 86]]], [[[120, 112]], [[120, 76]]]]"
   ]
  },
  {
   "cell_type": "code",
   "execution_count": 130,
   "metadata": {},
   "outputs": [
    {
     "data": {
      "text/plain": [
       "13"
      ]
     },
     "execution_count": 130,
     "metadata": {},
     "output_type": "execute_result"
    }
   ],
   "source": [
    "len(x)"
   ]
  },
  {
   "cell_type": "code",
   "execution_count": 131,
   "metadata": {},
   "outputs": [
    {
     "data": {
      "text/plain": [
       "2"
      ]
     },
     "execution_count": 131,
     "metadata": {},
     "output_type": "execute_result"
    }
   ],
   "source": [
    "len(x[1])"
   ]
  },
  {
   "cell_type": "code",
   "execution_count": 132,
   "metadata": {},
   "outputs": [
    {
     "data": {
      "text/plain": [
       "10"
      ]
     },
     "execution_count": 132,
     "metadata": {},
     "output_type": "execute_result"
    }
   ],
   "source": [
    "len(x[1][1])"
   ]
  },
  {
   "cell_type": "code",
   "execution_count": 133,
   "metadata": {},
   "outputs": [
    {
     "data": {
      "text/plain": [
       "2"
      ]
     },
     "execution_count": 133,
     "metadata": {},
     "output_type": "execute_result"
    }
   ],
   "source": [
    "len(x[1][1][1])"
   ]
  },
  {
   "cell_type": "code",
   "execution_count": 3,
   "metadata": {},
   "outputs": [],
   "source": [
    "y=np.array([[4.0, 3.0, 40.0, 1.0, 2.0, 26.0, 2.0], [1.0, 0.0, 42.0, 1.0, 1.0, 8.0, 2.0], [1.0, 0.0, 40.0, 1.0, 1.0, 10.0, 2.0], [2.0, 0.0, 40.0, 1.0, 1.0, 9.0, 2.0], [2.0, 0.0, 1.0, 1.0, 1.0, 6.0, 2.0], [2.0, 0.0, 44.0, 1.0, 1.0, 14.0, 2.0], [2.0, 0.0, 1.0, 1.0, 1.0, 6.0, 2.0], [1.0, 0.0, 40.0, 1.0, 1.0, 9.0, 2.0], [2.0, 0.0, 1.0, 1.0, 1.0, 6.0, 2.0], [2.0, 0.0, 40.0, 1.0, 1.0, 14.0, 2.0], [2.0, 2.0, 0.0, 1.0, 3.0, 14.0, 3.0], [2.0, 0.0, 1.0, 1.0, 1.0, 6.0, 2.0], [2.0, 0.0, 1.0, 1.0, 1.0, 6.0, 2.0], [2.0, 0.0, 1.0, 1.0, 1.0, 6.0, 2.0], [2.0, 0.0, 1.0, 1.0, 1.0, 6.0, 2.0], [2.0, 0.0, 1.0, 1.0, 1.0, 6.0, 2.0], [2.0, 0.0, 1.0, 1.0, 1.0, 6.0, 2.0], [2.0, 0.0, 1.0, 1.0, 1.0, 6.0, 2.0], [2.0, 0.0, 1.0, 1.0, 1.0, 6.0, 2.0], [2.0, 0.0, 1.0, 1.0, 1.0, 6.0, 2.0], [2.0, 0.0, 1.0, 1.0, 1.0, 6.0, 2.0], [2.0, 0.0, 1.0, 1.0, 1.0, 6.0, 2.0], [2.0, 0.0, 1.0, 1.0, 1.0, 6.0, 2.0], [2.0, 0.0, 1.0, 1.0, 1.0, 6.0, 2.0], [2.0, 0.0, 1.0, 1.0, 1.0, 6.0, 2.0], [2.0, 0.0, 1.0, 1.0, 1.0, 6.0, 2.0], [2.0, 0.0, 1.0, 1.0, 1.0, 6.0, 2.0], [2.0, 0.0, 1.0, 1.0, 1.0, 6.0, 2.0], [2.0, 0.0, 1.0, 1.0, 1.0, 6.0, 2.0], [2.0, 0.0, 1.0, 1.0, 1.0, 6.0, 2.0], [2.0, 0.0, 1.0, 1.0, 1.0, 6.0, 2.0], [2.0, 0.0, 1.0, 1.0, 1.0, 5.0, 1.0], [7.0, 1.0, 52.0, 5.0, 10.0, 47.0, 11.0], [1.0, 0.0, 40.0, 1.0, 1.0, 9.0, 2.0], [2.0, 0.0, 40.0, 1.0, 2.0, 20.0, 3.0], [2.0, 0.0, 46.0, 1.0, 3.0, 21.0, 4.0], [2.0, 0.0, 40.0, 1.0, 1.0, 14.0, 2.0], [1.0, 0.0, 40.0, 1.0, 2.0, 17.0, 3.0], [1.0, 0.0, 40.0, 1.0, 1.0, 8.0, 2.0], [1.0, 0.0, 40.0, 0.0, 0.0, 2.0, 1.0], [2.0, 0.0, 50.0, 1.0, 1.0, 14.0, 2.0], [1.0, 0.0, 40.0, 1.0, 1.0, 11.0, 2.0], [2.0, 0.0, 40.0, 2.0, 1.0, 11.0, 2.0], [1.0, 0.0, 40.0, 1.0, 1.0, 9.0, 2.0], [3.0, 0.0, 40.0, 1.0, 1.0, 29.0, 2.0], [1.0, 0.0, 40.0, 1.0, 1.0, 8.0, 2.0], [3.0, 1.0, 0.0, 1.0, 7.0, 35.0, 7.0], [1.0, 1.0, 40.0, 0.0, 0.0, 4.0, 1.0], [2.0, 0.0, 40.0, 1.0, 1.0, 14.0, 2.0], [1.0, 0.0, 48.0, 1.0, 1.0, 8.0, 2.0], [1.0, 0.0, 40.0, 1.0, 1.0, 8.0, 2.0], [2.0, 0.0, 40.0, 1.0, 1.0, 14.0, 2.0], [1.0, 0.0, 40.0, 1.0, 2.0, 11.0, 3.0]])"
   ]
  },
  {
   "cell_type": "code",
   "execution_count": 4,
   "metadata": {},
   "outputs": [],
   "source": [
    "srcs=['108/._Z12ladderLengthNSt3__112basic_stringIcNS_11char_traitsIcEENS_9allocatorIcEEEES5_RNS_6vectorIS5_NS3_IS5_EEEE.dot',\n",
    "'109/._Z12ladderLengthNSt3__112basic_stringIcNS_11char_traitsIcEENS_9allocatorIcEEEES5_RNS_6vectorIS5_NS3_IS5_EEEE.dot',\n",
    "'110/._Z12ladderLengthNSt3__112basic_stringIcNS_11char_traitsIcEENS_9allocatorIcEEEES5_RNS_6vectorIS5_NS3_IS5_EEEE.dot',\n",
    "'111/._Z12ladderLengthNSt3__112basic_stringIcNS_11char_traitsIcEENS_9allocatorIcEEEES5_RNS_6vectorIS5_NS3_IS5_EEEE.dot',\n",
    "'112/._Z12ladderLengthNSt3__112basic_stringIcNS_11char_traitsIcEENS_9allocatorIcEEEES5_RNS_6vectorIS5_NS3_IS5_EEEE.dot',\n",
    "'113/._Z12ladderLengthNSt3__112basic_stringIcNS_11char_traitsIcEENS_9allocatorIcEEEES5_RNS_6vectorIS5_NS3_IS5_EEEE.dot',\n",
    "'114/._Z12ladderLengthNSt3__112basic_stringIcNS_11char_traitsIcEENS_9allocatorIcEEEES5_RNS_6vectorIS5_NS3_IS5_EEEE.dot',\n",
    "'115/._Z12ladderLengthNSt3__112basic_stringIcNS_11char_traitsIcEENS_9allocatorIcEEEES5_RNS_6vectorIS5_NS3_IS5_EEEE.dot',\n",
    "'116/._Z12ladderLengthNSt3__112basic_stringIcNS_11char_traitsIcEENS_9allocatorIcEEEES5_RNS_6vectorIS5_NS3_IS5_EEEE.dot',\n",
    "'117/._Z12ladderLengthNSt3__112basic_stringIcNS_11char_traitsIcEENS_9allocatorIcEEEES5_RNS_6vectorIS5_NS3_IS5_EEEE.dot',\n",
    "'118/._Z12ladderLengthNSt3__112basic_stringIcNS_11char_traitsIcEENS_9allocatorIcEEEES5_RNS_6vectorIS5_NS3_IS5_EEEE.dot',\n",
    "'119/._Z12ladderLengthNSt3__112basic_stringIcNS_11char_traitsIcEENS_9allocatorIcEEEES5_RNS_6vectorIS5_NS3_IS5_EEEE.dot',\n",
    "'120/._Z12ladderLengthNSt3__112basic_stringIcNS_11char_traitsIcEENS_9allocatorIcEEEES5_RNS_6vectorIS5_NS3_IS5_EEEE.dot',\n",
    "'121/._Z12ladderLengthNSt3__112basic_stringIcNS_11char_traitsIcEENS_9allocatorIcEEEES5_RNS_6vectorIS5_NS3_IS5_EEEE.dot']"
   ]
  },
  {
   "cell_type": "code",
   "execution_count": 5,
   "metadata": {},
   "outputs": [],
   "source": [
    "srcs += ['1/._Z13addTwoNumbersP8ListNodeS0_.dot','10/._Z13addTwoNumbersP8ListNodeS0_.dot',\n",
    "        '11/._Z13addTwoNumbersP8ListNodeS0_.dot','12/._Z13addTwoNumbersP8ListNodeS0_.dot'\n",
    ",'13/._Z13addTwoNumbersP8ListNodeS0_.dot','14/._Z13addTwoNumbersP8ListNodeS0_.dot','15/._Z13addTwoNumbersP8ListNodeS0_.dot'\n",
    ",'16/._Z13addTwoNumbersP8ListNodeS0_.dot','17/._Z13addTwoNumbersP8ListNodeS0_.dot','18/._Z13addTwoNumbersP8ListNodeS0_.dot'\n",
    ",'19/._Z13addTwoNumbersP8ListNodeS0_.dot','2/._Z13addTwoNumbersP8ListNodeS0_.dot','3/._Z13addTwoNumbersP8ListNodeS0_.dot'\n",
    ",'4/._Z13addTwoNumbersP8ListNodeS0_.dot','5/._Z13addTwoNumbersP8ListNodeS0_.dot','6/._Z13addTwoNumbersP8ListNodeS0_.dot'\n",
    ",'7/._Z13addTwoNumbersP8ListNodeS0_.dot','8/._Z13addTwoNumbersP8ListNodeS0_.dot','9/._Z13addTwoNumbersP8ListNodeS0_.dot']"
   ]
  },
  {
   "cell_type": "code",
   "execution_count": 6,
   "metadata": {},
   "outputs": [],
   "source": [
    "srcs += ['20/._Z4trapRNSt3__16vectorIiNS_9allocatorIiEEEE.dot',\n",
    "'21/._Z4trapRNSt3__16vectorIiNS_9allocatorIiEEEE.dot',\n",
    "'22/._Z4trapRNSt3__16vectorIiNS_9allocatorIiEEEE.dot',\n",
    "'23/._Z4trapRNSt3__16vectorIiNS_9allocatorIiEEEE.dot',\n",
    "'24/._Z4trapRNSt3__16vectorIiNS_9allocatorIiEEEE.dot',\n",
    "'25/._Z4trapRNSt3__16vectorIiNS_9allocatorIiEEEE.dot',\n",
    "'26/._Z4trapRNSt3__16vectorIiNS_9allocatorIiEEEE.dot',\n",
    "'27/._Z4trapRNSt3__16vectorIiNS_9allocatorIiEEEE.dot',\n",
    "'28/._Z4trapRNSt3__16vectorIiNS_9allocatorIiEEEE.dot',\n",
    "'29/._Z4trapRNSt3__16vectorIiNS_9allocatorIiEEEE.dot',\n",
    "'30/._Z4trapRNSt3__16vectorIiNS_9allocatorIiEEEE.dot',\n",
    "'31/._Z4trapRNSt3__16vectorIiNS_9allocatorIiEEEE.dot',\n",
    "'32/._Z4trapRNSt3__16vectorIiNS_9allocatorIiEEEE.dot']"
   ]
  },
  {
   "cell_type": "code",
   "execution_count": 7,
   "metadata": {},
   "outputs": [],
   "source": [
    "srcs+=['33/._Z22findMedianSortedArraysRNSt3__16vectorIiNS_9allocatorIiEEEES4_.dot',\n",
    "'34/._Z22findMedianSortedArraysRNSt3__16vectorIiNS_9allocatorIiEEEES4_.dot',\n",
    "'35/._Z22findMedianSortedArraysRNSt3__16vectorIiNS_9allocatorIiEEEES4_.dot',\n",
    "'36/._Z22findMedianSortedArraysRNSt3__16vectorIiNS_9allocatorIiEEEES4_.dot',\n",
    "'37/._Z22findMedianSortedArraysRNSt3__16vectorIiNS_9allocatorIiEEEES4_.dot',\n",
    "'38/._Z22findMedianSortedArraysRNSt3__16vectorIiNS_9allocatorIiEEEES4_.dot',\n",
    "'39/._Z22findMedianSortedArraysRNSt3__16vectorIiNS_9allocatorIiEEEES4_.dot',\n",
    "'40/._Z22findMedianSortedArraysRNSt3__16vectorIiNS_9allocatorIiEEEES4_.dot',\n",
    "'41/._Z22findMedianSortedArraysRNSt3__16vectorIiNS_9allocatorIiEEEES4_.dot',\n",
    "'42/._Z22findMedianSortedArraysRNSt3__16vectorIiNS_9allocatorIiEEEES4_.dot',\n",
    "'43/._Z22findMedianSortedArraysRNSt3__16vectorIiNS_9allocatorIiEEEES4_.dot',\n",
    "'44/._Z22findMedianSortedArraysRNSt3__16vectorIiNS_9allocatorIiEEEES4_.dot',\n",
    "'45/._Z22findMedianSortedArraysRNSt3__16vectorIiNS_9allocatorIiEEEES4_.dot',\n",
    "'46/._Z22findMedianSortedArraysRNSt3__16vectorIiNS_9allocatorIiEEEES4_.dot',\n",
    "'47/._Z22findMedianSortedArraysRNSt3__16vectorIiNS_9allocatorIiEEEES4_.dot']"
   ]
  },
  {
   "cell_type": "code",
   "execution_count": 8,
   "metadata": {},
   "outputs": [],
   "source": [
    "srcs+=['49/._Z11mergeKListsRNSt3__16vectorIP8ListNodeNS_9allocatorIS2_EEEE.dot',\n",
    "'50/._Z11mergeKListsRNSt3__16vectorIP8ListNodeNS_9allocatorIS2_EEEE.dot',\n",
    "'51/._Z11mergeKListsRNSt3__16vectorIP8ListNodeNS_9allocatorIS2_EEEE.dot',\n",
    "'52/._Z11mergeKListsRNSt3__16vectorIP8ListNodeNS_9allocatorIS2_EEEE.dot',\n",
    "'53/._Z11mergeKListsRNSt3__16vectorIP8ListNodeNS_9allocatorIS2_EEEE.dot',\n",
    "'54/._Z11mergeKListsRNSt3__16vectorIP8ListNodeNS_9allocatorIS2_EEEE.dot',\n",
    "'55/._Z11mergeKListsRNSt3__16vectorIP8ListNodeNS_9allocatorIS2_EEEE.dot',\n",
    "'56/._Z11mergeKListsRNSt3__16vectorIP8ListNodeNS_9allocatorIS2_EEEE.dot',\n",
    "'57/._Z11mergeKListsRNSt3__16vectorIP8ListNodeNS_9allocatorIS2_EEEE.dot',\n",
    "'59/._Z11mergeKListsRNSt3__16vectorIP8ListNodeNS_9allocatorIS2_EEEE.dot',\n",
    "'48/._Z6helperRNSt3__16vectorIP8ListNodeNS_9allocatorIS2_EEEEii.dot',\n",
    "'58/._Z6helperRNSt3__16vectorIP8ListNodeNS_9allocatorIS2_EEEEii.dot']"
   ]
  },
  {
   "cell_type": "code",
   "execution_count": 9,
   "metadata": {},
   "outputs": [],
   "source": [
    "srcs+=['60/._Z11searchRangeRNSt3__16vectorIiNS_9allocatorIiEEEEi.dot',\n",
    "'61/._Z11searchRangeRNSt3__16vectorIiNS_9allocatorIiEEEEi.dot',\n",
    "'62/._Z11searchRangeRNSt3__16vectorIiNS_9allocatorIiEEEEi.dot',\n",
    "'63/._Z11searchRangeRNSt3__16vectorIiNS_9allocatorIiEEEEi.dot',\n",
    "'64/._Z11searchRangeRNSt3__16vectorIiNS_9allocatorIiEEEEi.dot',\n",
    "'65/._Z11searchRangeRNSt3__16vectorIiNS_9allocatorIiEEEEi.dot',\n",
    "'66/._Z11searchRangeRNSt3__16vectorIiNS_9allocatorIiEEEEi.dot',\n",
    "'67/._Z11searchRangeRNSt3__16vectorIiNS_9allocatorIiEEEEi.dot',\n",
    "'68/._Z11searchRangeRNSt3__16vectorIiNS_9allocatorIiEEEEi.dot']"
   ]
  },
  {
   "cell_type": "code",
   "execution_count": 10,
   "metadata": {},
   "outputs": [],
   "source": [
    "srcs+=['69/._Z7isMatchNSt3__112basic_stringIcNS_11char_traitsIcEENS_9allocatorIcEEEES5_.dot',\n",
    "'70/._Z7isMatchNSt3__112basic_stringIcNS_11char_traitsIcEENS_9allocatorIcEEEES5_.dot',\n",
    "'71/._Z7isMatchNSt3__112basic_stringIcNS_11char_traitsIcEENS_9allocatorIcEEEES5_.dot',\n",
    "'72/._Z7isMatchNSt3__112basic_stringIcNS_11char_traitsIcEENS_9allocatorIcEEEES5_.dot',\n",
    "'73/._Z7isMatchNSt3__112basic_stringIcNS_11char_traitsIcEENS_9allocatorIcEEEES5_.dot',\n",
    "'74/._Z7isMatchNSt3__112basic_stringIcNS_11char_traitsIcEENS_9allocatorIcEEEES5_.dot',\n",
    "'75/._Z7isMatchNSt3__112basic_stringIcNS_11char_traitsIcEENS_9allocatorIcEEEES5_.dot',\n",
    "'76/._Z7isMatchNSt3__112basic_stringIcNS_11char_traitsIcEENS_9allocatorIcEEEES5_.dot',\n",
    "'77/._Z7isMatchRKNSt3__112basic_stringIcNS_11char_traitsIcEENS_9allocatorIcEEEES7_.dot',\n",
    "'78/._Z7isMatchRKNSt3__112basic_stringIcNS_11char_traitsIcEENS_9allocatorIcEEEES7_.dot',\n",
    "'79/._Z7isMatchNSt3__112basic_stringIcNS_11char_traitsIcEENS_9allocatorIcEEEES5_.dot',\n",
    "'80/._Z7isMatchNSt3__112basic_stringIcNS_11char_traitsIcEENS_9allocatorIcEEEES5_.dot',\n",
    "'81/._Z7isMatchNSt3__112basic_stringIcNS_11char_traitsIcEENS_9allocatorIcEEEES5_.dot']"
   ]
  },
  {
   "cell_type": "code",
   "execution_count": 11,
   "metadata": {},
   "outputs": [],
   "source": [
    "srcs+=['82/._Z10numIslandsRNSt3__16vectorINS0_IcNS_9allocatorIcEEEENS1_IS3_EEEE.dot',\n",
    "'83/._Z10numIslandsRNSt3__16vectorINS0_IcNS_9allocatorIcEEEENS1_IS3_EEEE.dot',\n",
    "'84/._Z10numIslandsRNSt3__16vectorINS0_IcNS_9allocatorIcEEEENS1_IS3_EEEE.dot',\n",
    "'85/._Z10numIslandsRNSt3__16vectorINS0_IcNS_9allocatorIcEEEENS1_IS3_EEEE.dot',\n",
    "'86/._Z10numIslandsRNSt3__16vectorINS0_IcNS_9allocatorIcEEEENS1_IS3_EEEE.dot',\n",
    "'87/._Z10numIslandsRNSt3__16vectorINS0_IcNS_9allocatorIcEEEENS1_IS3_EEEE.dot',\n",
    "'88/._Z10numIslandsRNSt3__16vectorINS0_IcNS_9allocatorIcEEEENS1_IS3_EEEE.dot',\n",
    "'89/._Z10numIslandsRNSt3__16vectorINS0_IcNS_9allocatorIcEEEENS1_IS3_EEEE.dot',\n",
    "'90/._Z10numIslandsRNSt3__16vectorINS0_IcNS_9allocatorIcEEEENS1_IS3_EEEE.dot',\n",
    "'91/._Z10numIslandsRNSt3__16vectorINS0_IcNS_9allocatorIcEEEENS1_IS3_EEEE.dot',\n",
    "'92/._Z10numIslandsRNSt3__16vectorINS0_IcNS_9allocatorIcEEEENS1_IS3_EEEE.dot',\n",
    "'93/._Z10numIslandsRNSt3__16vectorINS0_IcNS_9allocatorIcEEEENS1_IS3_EEEE.dot',\n",
    "'94/._Z10numIslandsRNSt3__16vectorINS0_IcNS_9allocatorIcEEEENS1_IS3_EEEE.dot',\n",
    "'95/._Z10numIslandsRNSt3__16vectorINS0_IcNS_9allocatorIcEEEENS1_IS3_EEEE.dot']"
   ]
  },
  {
   "cell_type": "code",
   "execution_count": 12,
   "metadata": {},
   "outputs": [],
   "source": [
    "srcs+=['100/._Z16zigzagLevelOrderP8TreeNode.dot',\n",
    "'101/._Z16zigzagLevelOrderP8TreeNode.dot',\n",
    "'102/._Z16zigzagLevelOrderP8TreeNode.dot',\n",
    "'103/._Z16zigzagLevelOrderP8TreeNode.dot',\n",
    "'104/._Z16zigzagLevelOrderP8TreeNode.dot',\n",
    "'105/._Z16zigzagLevelOrderP8TreeNode.dot',\n",
    "'106/._Z16zigzagLevelOrderP8TreeNode.dot',\n",
    "'107/._Z16zigzagLevelOrderP8TreeNode.dot',\n",
    "'96/._Z16zigzagLevelOrderP8TreeNode.dot',\n",
    "'97/._Z16zigzagLevelOrderP8TreeNode.dot',\n",
    "'98/._Z16zigzagLevelOrderP8TreeNode.dot',\n",
    "'99/._Z16zigzagLevelOrderP8TreeNode.dot']"
   ]
  },
  {
   "cell_type": "code",
   "execution_count": 13,
   "metadata": {},
   "outputs": [
    {
     "name": "stdout",
     "output_type": "stream",
     "text": [
      "35.66115702479339\n"
     ]
    }
   ],
   "source": [
    "average = 0\n",
    "fname = 'ladderLength'\n",
    "for src in srcs:\n",
    "    #print(src)\n",
    "    file1 = open('../../data/gemini_embedding/'+src, 'r')\n",
    "    Lines = file1.readlines()\n",
    "\n",
    "    node_dict = {}\n",
    "\n",
    "    n_num= 0\n",
    "    \n",
    "    equal = []\n",
    "    load = []\n",
    "    icmp = []\n",
    "    invoke = []\n",
    "    extract = []\n",
    "    br = []\n",
    "    ari = []\n",
    "\n",
    "    succs = []\n",
    "    for line in Lines:\n",
    "        if '[shape' in line:\n",
    "            temp = line.split(' ')[0]\n",
    "            #print(temp.split('\\t')[1])\n",
    "            node_dict[temp.split('\\t')[1]]=n_num\n",
    "            n_num += 1\n",
    "            succs.append([])\n",
    "            equal.append (line.count('=')-5)\n",
    "            load.append(line.count('load'))\n",
    "            icmp.append(line.count('icmp'))\n",
    "            invoke.append(line.count('invoke'))\n",
    "            extract.append(line.count('extract'))\n",
    "            br.append(line.count('br'))\n",
    "            ari.append(line.count('add')+line.count('sub')+line.count('mul')+line.count('div'))\n",
    "    average += n_num\n",
    "print(average/121)\n",
    "    "
   ]
  },
  {
   "cell_type": "code",
   "execution_count": 14,
   "metadata": {},
   "outputs": [],
   "source": [
    "counts = [19,13,15,12,9,13,14,12,14]\n",
    "acc_count = [0,20,33,48,60,69,82,96,108,122]\n",
    "questions = ['2','42','4','23','34','10','200','103','127']\n",
    "label = []\n",
    "clabel = []\n",
    "for i in range(9):\n",
    "    for j in range(counts[i]):\n",
    "        label.append(questions[i])\n",
    "        clabel.append(i/9.0)"
   ]
  },
  {
   "cell_type": "code",
   "execution_count": 15,
   "metadata": {},
   "outputs": [
    {
     "ename": "NameError",
     "evalue": "name 'embedding' is not defined",
     "output_type": "error",
     "traceback": [
      "\u001b[0;31m---------------------------------------------------------------------------\u001b[0m",
      "\u001b[0;31mNameError\u001b[0m                                 Traceback (most recent call last)",
      "\u001b[0;32m<ipython-input-15-4e9c1db5c2f1>\u001b[0m in \u001b[0;36m<module>\u001b[0;34m\u001b[0m\n\u001b[0;32m----> 1\u001b[0;31m \u001b[0membedding\u001b[0m\u001b[0;34m.\u001b[0m\u001b[0mshape\u001b[0m\u001b[0;34m\u001b[0m\u001b[0;34m\u001b[0m\u001b[0m\n\u001b[0m",
      "\u001b[0;31mNameError\u001b[0m: name 'embedding' is not defined"
     ]
    }
   ],
   "source": [
    "embedding.shape"
   ]
  },
  {
   "cell_type": "code",
   "execution_count": 16,
   "metadata": {},
   "outputs": [],
   "source": [
    "test=[]\n",
    "for j in range(121):\n",
    "    compond = []\n",
    "    for k in range(121):\n",
    "        compond.append([j,k])\n",
    "    test.append([compond,[]])"
   ]
  },
  {
   "cell_type": "code",
   "execution_count": 17,
   "metadata": {},
   "outputs": [
    {
     "ename": "NameError",
     "evalue": "name 'correct' is not defined",
     "output_type": "error",
     "traceback": [
      "\u001b[0;31m---------------------------------------------------------------------------\u001b[0m",
      "\u001b[0;31mNameError\u001b[0m                                 Traceback (most recent call last)",
      "\u001b[0;32m<ipython-input-17-e92cc44d57e9>\u001b[0m in \u001b[0;36m<module>\u001b[0;34m\u001b[0m\n\u001b[1;32m      3\u001b[0m \u001b[0mtest2\u001b[0m \u001b[0;34m=\u001b[0m\u001b[0mnp\u001b[0m\u001b[0;34m.\u001b[0m\u001b[0mzeros\u001b[0m\u001b[0;34m(\u001b[0m\u001b[0;34m(\u001b[0m\u001b[0;36m1\u001b[0m\u001b[0;34m,\u001b[0m\u001b[0;36m2\u001b[0m\u001b[0;34m)\u001b[0m\u001b[0;34m)\u001b[0m\u001b[0;34m\u001b[0m\u001b[0;34m\u001b[0m\u001b[0m\n\u001b[1;32m      4\u001b[0m \u001b[0;32mfor\u001b[0m \u001b[0mi\u001b[0m \u001b[0;32min\u001b[0m \u001b[0mrange\u001b[0m\u001b[0;34m(\u001b[0m\u001b[0;36m1296\u001b[0m\u001b[0;34m)\u001b[0m\u001b[0;34m:\u001b[0m\u001b[0;34m\u001b[0m\u001b[0;34m\u001b[0m\u001b[0m\n\u001b[0;32m----> 5\u001b[0;31m     \u001b[0mcompound\u001b[0m\u001b[0;34m=\u001b[0m\u001b[0;34m[\u001b[0m\u001b[0mcorrect\u001b[0m\u001b[0;34m[\u001b[0m\u001b[0mi\u001b[0m\u001b[0;34m*\u001b[0m\u001b[0;36m10\u001b[0m\u001b[0;34m:\u001b[0m\u001b[0mi\u001b[0m\u001b[0;34m*\u001b[0m\u001b[0;36m10\u001b[0m\u001b[0;34m+\u001b[0m\u001b[0;36m10\u001b[0m\u001b[0;34m]\u001b[0m\u001b[0;34m,\u001b[0m\u001b[0mincorrect\u001b[0m\u001b[0;34m[\u001b[0m\u001b[0mi\u001b[0m\u001b[0;34m*\u001b[0m\u001b[0;36m10\u001b[0m\u001b[0;34m:\u001b[0m\u001b[0;36m10\u001b[0m\u001b[0;34m*\u001b[0m\u001b[0mi\u001b[0m\u001b[0;34m+\u001b[0m\u001b[0;36m10\u001b[0m\u001b[0;34m]\u001b[0m\u001b[0;34m]\u001b[0m\u001b[0;34m\u001b[0m\u001b[0;34m\u001b[0m\u001b[0m\n\u001b[0m\u001b[1;32m      6\u001b[0m     \u001b[0mtest\u001b[0m\u001b[0;34m.\u001b[0m\u001b[0mappend\u001b[0m\u001b[0;34m(\u001b[0m\u001b[0mcompound\u001b[0m\u001b[0;34m)\u001b[0m\u001b[0;34m\u001b[0m\u001b[0;34m\u001b[0m\u001b[0m\n",
      "\u001b[0;31mNameError\u001b[0m: name 'correct' is not defined"
     ]
    }
   ],
   "source": [
    "i=0\n",
    "test = []\n",
    "test2 =np.zeros((1,2))\n",
    "for i in range(1296):\n",
    "    compound=[correct[i*10:i*10+10],incorrect[i*10:10*i+10]]\n",
    "    test.append(compound)"
   ]
  },
  {
   "cell_type": "code",
   "execution_count": 273,
   "metadata": {},
   "outputs": [],
   "source": [
    "with open('./data/test.json', 'w') as f:\n",
    "    json.dump(test, f)"
   ]
  },
  {
   "cell_type": "code",
   "execution_count": 323,
   "metadata": {},
   "outputs": [],
   "source": [
    "data=np.load('diff.npz')\n",
    "similarity_result = data['result']\n",
    "equivalent_label = data['label']\n",
    "embedding = data['embedding']"
   ]
  },
  {
   "cell_type": "code",
   "execution_count": 295,
   "metadata": {},
   "outputs": [],
   "source": []
  },
  {
   "cell_type": "code",
   "execution_count": 20,
   "metadata": {},
   "outputs": [],
   "source": [
    "# identical label\n",
    "identical_label = [[],[],[],[],[17,18],[],[8],[7],[15,16],[],[],[],[],[19],[9,16],[9,15],[5,18],[5,17],[14]\n",
    "                  ,[],[],[],[],[],[],[],[32],[30,31],[],[28,31],[28,30],[27]\n",
    "                  ,[34],[33],[],[],[38,39],[37,39],[37,38],[],[],[],[],[45],[44],[],[]\n",
    "                  ,[],[],[51],[50],[],[],[],[56,57],[55,57],[55,56],[],[]\n",
    "                  ,[61],[60],[63],[62],[],[],[],[68],[68]\n",
    "                  ,[70],[69],[],[73],[72],[],[],[],[78],[77],[],[],[]\n",
    "                  ,[],[],[],[86],[85],[],[],[90],[89],[92],[91],[],[],[]\n",
    "                  ,[],[],[],[],[102],[],[100],[],[],[],[],[]\n",
    "                  ,[],[],[],[],[],[],[115],[114],[117],[116],[],[],[],[]]\n",
    "                          \n",
    "#similar or plagarised label\n",
    "similar_label = [[2,4,6],[1,4,6],[],[1,2,6],[],[1,2,4],[],[],[],[],[12,13],[11,13],[11,12],[],[],[],[],[],[]\n",
    "                ,[21,22,29],[20,22,29],[20,21,29],[],[25],[24],[],[],[],[20,21,22],[],[],[]\n",
    "                ,[],[],[36,37,38,39],[35,37,38,39],[35,36,38,39],[35,36,37,39],[35,36,37,38],[],[43],[],[41],[45,47],[44,47],[],[44,45]\n",
    "                ,[58],[],[],[],[],[54],[53],[],[],[],[48],[]\n",
    "                ,[],[],[63,64],[62,64],[62,63],[],[],[],[]\n",
    "                ,[],[],[],[73,74],[72,74],[72,73],[],[],[],[],[80,81],[79,81],[79,80]\n",
    "                ,[],[84],[83],[],[],[],[],[],[],[],[],[],[95],[94]\n",
    "                ,[97,98],[96,98],[96,97],[],[],[],[],[],[105],[104],[107],[106]\n",
    "                ,[109,111],[108,111],[],[108,109],[],[],[],[],[],[],[],[],[],[]]"
   ]
  },
  {
   "cell_type": "code",
   "execution_count": 21,
   "metadata": {},
   "outputs": [
    {
     "ename": "NameError",
     "evalue": "name 'similarity_matrix2' is not defined",
     "output_type": "error",
     "traceback": [
      "\u001b[0;31m---------------------------------------------------------------------------\u001b[0m",
      "\u001b[0;31mNameError\u001b[0m                                 Traceback (most recent call last)",
      "\u001b[0;32m<ipython-input-21-c8cf29dbdac3>\u001b[0m in \u001b[0;36m<module>\u001b[0;34m\u001b[0m\n\u001b[1;32m      4\u001b[0m \u001b[0;32mfor\u001b[0m  \u001b[0mi\u001b[0m \u001b[0;32min\u001b[0m \u001b[0mrange\u001b[0m\u001b[0;34m(\u001b[0m\u001b[0;36m1\u001b[0m\u001b[0;34m,\u001b[0m\u001b[0;36m122\u001b[0m\u001b[0;34m)\u001b[0m\u001b[0;34m:\u001b[0m\u001b[0;34m\u001b[0m\u001b[0;34m\u001b[0m\u001b[0m\n\u001b[1;32m      5\u001b[0m     \u001b[0;32mfor\u001b[0m \u001b[0mj\u001b[0m \u001b[0;32min\u001b[0m \u001b[0mrange\u001b[0m\u001b[0;34m(\u001b[0m\u001b[0;36m1\u001b[0m\u001b[0;34m,\u001b[0m\u001b[0;36m122\u001b[0m\u001b[0;34m)\u001b[0m\u001b[0;34m:\u001b[0m\u001b[0;34m\u001b[0m\u001b[0;34m\u001b[0m\u001b[0m\n\u001b[0;32m----> 6\u001b[0;31m         \u001b[0msimilarity_matrix\u001b[0m\u001b[0;34m[\u001b[0m\u001b[0mi\u001b[0m\u001b[0;34m]\u001b[0m\u001b[0;34m[\u001b[0m\u001b[0mj\u001b[0m\u001b[0;34m]\u001b[0m \u001b[0;34m=\u001b[0m \u001b[0msimilarity_matrix2\u001b[0m\u001b[0;34m[\u001b[0m\u001b[0mi\u001b[0m\u001b[0;34m-\u001b[0m\u001b[0;36m1\u001b[0m\u001b[0;34m]\u001b[0m\u001b[0;34m[\u001b[0m\u001b[0mj\u001b[0m\u001b[0;34m-\u001b[0m\u001b[0;36m1\u001b[0m\u001b[0;34m]\u001b[0m\u001b[0;34m\u001b[0m\u001b[0;34m\u001b[0m\u001b[0m\n\u001b[0m\u001b[1;32m      7\u001b[0m         \u001b[0mcos_matrix\u001b[0m\u001b[0;34m[\u001b[0m\u001b[0mi\u001b[0m\u001b[0;34m]\u001b[0m\u001b[0;34m[\u001b[0m\u001b[0mj\u001b[0m\u001b[0;34m]\u001b[0m \u001b[0;34m=\u001b[0m \u001b[0mcosine_similarity\u001b[0m\u001b[0;34m(\u001b[0m\u001b[0;34m[\u001b[0m\u001b[0membedding\u001b[0m\u001b[0;34m[\u001b[0m\u001b[0mi\u001b[0m\u001b[0;34m-\u001b[0m\u001b[0;36m1\u001b[0m\u001b[0;34m]\u001b[0m\u001b[0;34m]\u001b[0m\u001b[0;34m,\u001b[0m \u001b[0;34m[\u001b[0m\u001b[0membedding\u001b[0m\u001b[0;34m[\u001b[0m\u001b[0mj\u001b[0m\u001b[0;34m-\u001b[0m\u001b[0;36m1\u001b[0m\u001b[0;34m]\u001b[0m\u001b[0;34m]\u001b[0m\u001b[0;34m)\u001b[0m\u001b[0;34m\u001b[0m\u001b[0;34m\u001b[0m\u001b[0m\n",
      "\u001b[0;31mNameError\u001b[0m: name 'similarity_matrix2' is not defined"
     ]
    }
   ],
   "source": [
    "from sklearn.metrics.pairwise import cosine_similarity\n",
    "similarity_matrix = np.zeros((122,122))\n",
    "cos_matrix = np.zeros((122,122))\n",
    "for  i in range(1,122):\n",
    "    for j in range(1,122):\n",
    "        similarity_matrix[i][j] = similarity_matrix2[i-1][j-1]\n",
    "        cos_matrix[i][j] = cosine_similarity([embedding[i-1]], [embedding[j-1]])"
   ]
  },
  {
   "cell_type": "code",
   "execution_count": 326,
   "metadata": {},
   "outputs": [
    {
     "data": {
      "text/plain": [
       "array([[0.        , 0.        , 0.        , ..., 0.        , 0.        ,\n",
       "        0.        ],\n",
       "       [0.        , 1.00000012, 1.00000012, ..., 0.82122195, 0.54618019,\n",
       "        0.84537852],\n",
       "       [0.        , 1.00000012, 1.00000012, ..., 0.82122195, 0.54618019,\n",
       "        0.84537852],\n",
       "       ...,\n",
       "       [0.        , 0.82122195, 0.82122195, ..., 1.        , 0.895688  ,\n",
       "        0.99634778],\n",
       "       [0.        , 0.54618019, 0.54618019, ..., 0.895688  , 1.00000012,\n",
       "        0.88564956],\n",
       "       [0.        , 0.84537852, 0.84537852, ..., 0.99634778, 0.88564956,\n",
       "        1.        ]])"
      ]
     },
     "execution_count": 326,
     "metadata": {},
     "output_type": "execute_result"
    }
   ],
   "source": [
    "cos_matrix"
   ]
  },
  {
   "cell_type": "code",
   "execution_count": 22,
   "metadata": {},
   "outputs": [],
   "source": [
    "group_similarity = np.zeros((9,9))\n",
    "for i in range(9):\n",
    "    for j in range (9):\n",
    "        group_similarity[i][j] = np.average( similarity_matrix[acc_count[i]:acc_count[i+1],acc_count[j]:acc_count[j+1]])\n",
    " "
   ]
  },
  {
   "cell_type": "code",
   "execution_count": 23,
   "metadata": {},
   "outputs": [
    {
     "name": "stdout",
     "output_type": "stream",
     "text": [
      "0.5785123966942148\n",
      "0.5785123966942148\n",
      "fp:  0\n",
      "fn  66\n"
     ]
    }
   ],
   "source": [
    "#identical code analysis\n",
    "identical_matrix = cos_matrix.copy()\n",
    "np.fill_diagonal(identical_matrix,0)\n",
    "\n",
    "identical_result = []\n",
    "for i in range (1,122):\n",
    "    identical_result.append(np.where(identical_matrix[i]>=0.99)[0])\n",
    "\n",
    "score = 0.\n",
    "loose = 0.\n",
    "fp = 0\n",
    "fn = 0\n",
    "for i in range(121):\n",
    "    if (len(identical_result[i])==0):\n",
    "        if len(identical_label[i])==0:\n",
    "            score += 1\n",
    "            loose +=1\n",
    "        else:\n",
    "            fn+=len(identical_label[i])\n",
    "    elif len(identical_label[i])!=0:\n",
    "        correct = 0.0\n",
    "        for j in range(len(identical_label[i])):\n",
    "            if identical_label[i][j] in identical_result[i]:\n",
    "                correct +=1.0\n",
    "            else:\n",
    "                fn +=1\n",
    "        for j in range(len(identical_result[i])):\n",
    "            if identical_result[i][j] not in identical_label[i]:\n",
    "                fp += 1\n",
    "        #extra =  len(identical_result[i]) - correct\n",
    "        loose += min(correct,1)\n",
    "        score += correct/len(identical_label[i])\n",
    "    else:\n",
    "        loose +=1\n",
    "        fp +=len(identical_result[i])\n",
    "        #print(i,identical_result[i])\n",
    "print(score/121)\n",
    "print(loose/121)\n",
    "print('fp: ',fp)\n",
    "print('fn ',fn)"
   ]
  },
  {
   "cell_type": "code",
   "execution_count": 24,
   "metadata": {},
   "outputs": [],
   "source": [
    "#identical code analysis 2\n",
    "import matplotlib.pyplot as plt\n",
    "\n",
    "identical_matrix2 = np.zeros(identical_matrix.shape)\n",
    "index = np.where(identical_matrix>=0.999)\n",
    "identical_matrix2[index] = 1\n",
    "\n",
    "identical_label_matrix = np.zeros(identical_matrix.shape)\n",
    "for i in range(121):\n",
    "    if identical_label[i]!=[]:\n",
    "        identical_label_matrix[i][identical_label[i]] = 1\n",
    "        \n",
    "\n",
    "\n",
    "fig, ax = plt.subplots()\n",
    "ax.set_title(\"Identical Detection Result - Gemini\")\n",
    "im = ax.imshow(identical_matrix2,cmap='plasma')\n",
    "\n",
    "fig, ax = plt.subplots()\n",
    "ax.set_title(\"Identical Detection Label\")\n",
    "im = ax.imshow(identical_label_matrix,cmap='plasma')"
   ]
  },
  {
   "cell_type": "code",
   "execution_count": 25,
   "metadata": {},
   "outputs": [
    {
     "name": "stdout",
     "output_type": "stream",
     "text": [
      "0.2396694214876033\n",
      "0.2396694214876033\n",
      "0\n",
      "168\n"
     ]
    }
   ],
   "source": [
    "#similar code analysis\n",
    "plagarized_matrix = identical_matrix.copy()\n",
    "np.fill_diagonal(plagarized_matrix,0)\n",
    "\n",
    "plagarized_result = []\n",
    "for i in range (1,122):\n",
    "    plagarized_result.append(np.where(plagarized_matrix[i]>=0.9)[0])\n",
    "\n",
    "hard_pla = 0.\n",
    "soft_pla = 0.\n",
    "fp = 0\n",
    "fn = 0\n",
    "for i in range(121):\n",
    "    if (len(plagarized_result[i])==0):\n",
    "        if len(similar_label[i])==0 and len(identical_label[i])==0:\n",
    "            hard_pla += 1\n",
    "            soft_pla += 1\n",
    "        else:\n",
    "            fn +=(len(similar_label[i])+len(identical_label[i]))\n",
    "    elif len(similar_label[i])!=0 or len(identical_label[i])!=0:\n",
    "        correct = 0.0\n",
    "        for j in range(len(similar_label[i])):\n",
    "            if similar_label[i][j] in plagarized_result[i]:\n",
    "                correct +=1.0\n",
    "            else:\n",
    "                fn += 1\n",
    "        for j in range(len(plagarized_result[i])):\n",
    "            if (plagarized_result[i][j] not in similar_label[i]) and (plagarized_result[i][j] not in identical_label[i]):\n",
    "                fp += 1\n",
    "                \n",
    "        for j in range(len(identical_label[i])):\n",
    "            if identical_label[i][j] in plagarized_result[i]:\n",
    "                correct +=1.0\n",
    "            else:\n",
    "                fn += 1\n",
    "        #extra =  len(identical_result[i]) - correct\n",
    "        soft_pla += correct/(len(similar_label[i])+len(identical_label[i]))\n",
    "        hard_pla += correct/(len(similar_label[i])+len(identical_label[i]))\n",
    "    else:\n",
    "        fp+=len(plagarized_result[i])\n",
    "        soft_pla +=1\n",
    "print(hard_pla/121)\n",
    "print(soft_pla/121)\n",
    "print(fp)\n",
    "print(fn)"
   ]
  },
  {
   "cell_type": "code",
   "execution_count": 26,
   "metadata": {},
   "outputs": [
    {
     "data": {
      "image/png": "[encoded data removed]",
      "text/plain": [
       "<Figure size 432x288 with 1 Axes>"
      ]
     },
     "metadata": {
      "needs_background": "light"
     },
     "output_type": "display_data"
    },
    {
     "data": {
      "image/png": "[encoded data removed]",
      "text/plain": [
       "<Figure size 432x288 with 1 Axes>"
      ]
     },
     "metadata": {
      "needs_background": "light"
     },
     "output_type": "display_data"
    }
   ],
   "source": [
    "#similar code analysis 2\n",
    "plagarized_matrix2 = np.zeros(identical_matrix.shape)\n",
    "index = np.where(identical_matrix>=0.99)\n",
    "plagarized_matrix2[index] = 1\n",
    "\n",
    "plagarized_label_matrix = np.zeros(identical_matrix.shape)\n",
    "for i in range(121):\n",
    "    if similar_label[i]!=[]:\n",
    "        plagarized_label_matrix[i][similar_label[i]] = 1\n",
    "    if identical_label[i]!=[]:\n",
    "        plagarized_label_matrix[i][identical_label[i]] = 1\n",
    "        \n",
    "\n",
    "\n",
    "fig, ax = plt.subplots()\n",
    "ax.set_title(\"Similar Detection Result - Gemini\")\n",
    "im = ax.imshow(plagarized_matrix2,cmap='viridis')\n",
    "\n",
    "fig, ax = plt.subplots()\n",
    "ax.set_title(\"Similar Detection Label\")\n",
    "im = ax.imshow(plagarized_label_matrix,cmap='viridis')\n"
   ]
  },
  {
   "cell_type": "code",
   "execution_count": 27,
   "metadata": {},
   "outputs": [
    {
     "data": {
      "text/plain": [
       "Text(0.5, 1.0, 'Individual Similarity Score - Gemini')"
      ]
     },
     "execution_count": 27,
     "metadata": {},
     "output_type": "execute_result"
    },
    {
     "data": {
      "image/png": "[encoded data removed]",
      "text/plain": [
       "<Figure size 432x288 with 1 Axes>"
      ]
     },
     "metadata": {
      "needs_background": "light"
     },
     "output_type": "display_data"
    }
   ],
   "source": [
    "import matplotlib.pyplot as plt\n",
    "\n",
    "fig, ax = plt.subplots()\n",
    "im = ax.imshow(cos_matrix,cmap='viridis')\n",
    "\n",
    "ax.set_title(\"Individual Similarity Score - Gemini\")"
   ]
  },
  {
   "cell_type": "code",
   "execution_count": 367,
   "metadata": {},
   "outputs": [
    {
     "data": {
      "image/png": "[encoded data removed]",
      "text/plain": [
       "<Figure size 432x288 with 1 Axes>"
      ]
     },
     "metadata": {
      "needs_background": "light"
     },
     "output_type": "display_data"
    }
   ],
   "source": [
    "fig, ax = plt.subplots()\n",
    "im = ax.imshow(group_similarity,cmap='viridis')\n",
    "ax.set_xticks(np.arange(9))\n",
    "ax.set_yticks(np.arange(9))\n",
    "ax.set_xticklabels(questions)\n",
    "ax.set_yticklabels(questions)\n",
    "\n",
    "plt.setp(ax.get_xticklabels(), rotation=45, ha=\"right\",\n",
    "         rotation_mode=\"anchor\")\n",
    "\n",
    "# Loop over data dimensions and create text annotations.\n",
    "for i in range(9):\n",
    "    for j in range(9):\n",
    "        text = ax.text(j, i, round(group_similarity[i, j],2),\n",
    "                       ha=\"center\", va=\"center\", color=\"w\")\n",
    "\n",
    "ax.set_title(\"Group Similarity Score - Gemini\")\n",
    "fig.tight_layout()\n",
    "plt.show()"
   ]
  },
  {
   "cell_type": "code",
   "execution_count": 334,
   "metadata": {},
   "outputs": [],
   "source": [
    "from sklearn.cluster import KMeans\n",
    "from sklearn.manifold import TSNE\n",
    "X=np.array([np.array(xi) for xi in embedding[1:]])\n",
    "kmeans = KMeans(n_clusters=9, random_state=0).fit(X)\n",
    "y_kmeans = kmeans.predict(X)"
   ]
  },
  {
   "cell_type": "code",
   "execution_count": 335,
   "metadata": {},
   "outputs": [],
   "source": [
    "X_embedded = TSNE(n_components=2).fit_transform(X)"
   ]
  },
  {
   "cell_type": "code",
   "execution_count": 369,
   "metadata": {},
   "outputs": [
    {
     "data": {
      "text/plain": [
       "<matplotlib.collections.PathCollection at 0x7faa7ac9ba58>"
      ]
     },
     "execution_count": 369,
     "metadata": {},
     "output_type": "execute_result"
    },
    {
     "data": {
      "image/png": "[encoded data removed]",
      "text/plain": [
       "<Figure size 432x288 with 1 Axes>"
      ]
     },
     "metadata": {
      "needs_background": "light"
     },
     "output_type": "display_data"
    },
    {
     "data": {
      "image/png": "[encoded data removed]",
      "text/plain": [
       "<Figure size 432x288 with 1 Axes>"
      ]
     },
     "metadata": {
      "needs_background": "light"
     },
     "output_type": "display_data"
    }
   ],
   "source": [
    "fig, ax = plt.subplots()\n",
    "ax.set_title(\"Equivalence Detection Result - Gemini\")\n",
    "plt.scatter(X_embedded[:, 0], X_embedded[:, 1], c=y_kmeans, s=50, cmap='viridis')\n",
    "\n",
    "fig, ax = plt.subplots()\n",
    "ax.set_title(\"Equivalence Detection Label - Gemini\")\n",
    "plt.scatter(X_embedded[:, 0], X_embedded[:, 1], c=clabel[0:120], s=50, cmap='viridis')"
   ]
  },
  {
   "cell_type": "code",
   "execution_count": 375,
   "metadata": {},
   "outputs": [
    {
     "data": {
      "text/plain": [
       "0.30633131251804907"
      ]
     },
     "execution_count": 375,
     "metadata": {},
     "output_type": "execute_result"
    }
   ],
   "source": [
    "from sklearn.metrics.cluster import normalized_mutual_info_score\n",
    "normalized_mutual_info_score(y_kmeans,label[0:120])"
   ]
  },
  {
   "cell_type": "code",
   "execution_count": 434,
   "metadata": {},
   "outputs": [
    {
     "data": {
      "text/plain": [
       "0.4834815"
      ]
     },
     "execution_count": 434,
     "metadata": {},
     "output_type": "execute_result"
    }
   ],
   "source": [
    "np.min(similarity_matrix2)"
   ]
  },
  {
   "cell_type": "code",
   "execution_count": 435,
   "metadata": {},
   "outputs": [
    {
     "data": {
      "text/plain": [
       "1.0"
      ]
     },
     "execution_count": 435,
     "metadata": {},
     "output_type": "execute_result"
    }
   ],
   "source": [
    "np.max(similarity_matrix2)"
   ]
  },
  {
   "cell_type": "code",
   "execution_count": 1,
   "metadata": {},
   "outputs": [],
   "source": [
    "import numpy as np"
   ]
  },
  {
   "cell_type": "code",
   "execution_count": 34,
   "metadata": {},
   "outputs": [
    {
     "ename": "ValueError",
     "evalue": "Cannot load file containing pickled data when allow_pickle=False",
     "output_type": "error",
     "traceback": [
      "\u001b[0;31m---------------------------------------------------------------------------\u001b[0m",
      "\u001b[0;31mValueError\u001b[0m                                Traceback (most recent call last)",
      "\u001b[0;32m<ipython-input-34-b019c6dab43d>\u001b[0m in \u001b[0;36m<module>\u001b[0;34m\u001b[0m\n\u001b[1;32m      1\u001b[0m \u001b[0mfile_path\u001b[0m \u001b[0;34m=\u001b[0m \u001b[0;34m\"/Users/yumengluo/IdeaProjects/test/data/hw1-0.0.1-SNAPSHOT/controllers.PlayGame/checkMoveValid(Move,Message).txt\"\u001b[0m\u001b[0;34m\u001b[0m\u001b[0;34m\u001b[0m\u001b[0m\n\u001b[0;32m----> 2\u001b[0;31m \u001b[0mdataset\u001b[0m \u001b[0;34m=\u001b[0m \u001b[0mnp\u001b[0m\u001b[0;34m.\u001b[0m\u001b[0mload\u001b[0m\u001b[0;34m(\u001b[0m\u001b[0mfile_path\u001b[0m\u001b[0;34m)\u001b[0m\u001b[0;34m\u001b[0m\u001b[0;34m\u001b[0m\u001b[0m\n\u001b[0m\u001b[1;32m      3\u001b[0m \u001b[0mX\u001b[0m\u001b[0;34m,\u001b[0m \u001b[0my\u001b[0m \u001b[0;34m=\u001b[0m \u001b[0mnp\u001b[0m\u001b[0;34m.\u001b[0m\u001b[0marray\u001b[0m\u001b[0;34m(\u001b[0m\u001b[0mdataset\u001b[0m\u001b[0;34m[\u001b[0m\u001b[0;34m'X'\u001b[0m\u001b[0;34m]\u001b[0m\u001b[0;34m)\u001b[0m\u001b[0;34m,\u001b[0m \u001b[0mnp\u001b[0m\u001b[0;34m.\u001b[0m\u001b[0marray\u001b[0m\u001b[0;34m(\u001b[0m\u001b[0mdataset\u001b[0m\u001b[0;34m[\u001b[0m\u001b[0;34m'y'\u001b[0m\u001b[0;34m]\u001b[0m\u001b[0;34m,\u001b[0m \u001b[0mdtype\u001b[0m\u001b[0;34m=\u001b[0m\u001b[0mnp\u001b[0m\u001b[0;34m.\u001b[0m\u001b[0mint\u001b[0m\u001b[0;34m)\u001b[0m\u001b[0;34m\u001b[0m\u001b[0;34m\u001b[0m\u001b[0m\n",
      "\u001b[0;32m~/anaconda3/envs/SAFE37/lib/python3.7/site-packages/numpy/lib/npyio.py\u001b[0m in \u001b[0;36mload\u001b[0;34m(file, mmap_mode, allow_pickle, fix_imports, encoding)\u001b[0m\n\u001b[1;32m    442\u001b[0m             \u001b[0;31m# Try a pickle\u001b[0m\u001b[0;34m\u001b[0m\u001b[0;34m\u001b[0m\u001b[0;34m\u001b[0m\u001b[0m\n\u001b[1;32m    443\u001b[0m             \u001b[0;32mif\u001b[0m \u001b[0;32mnot\u001b[0m \u001b[0mallow_pickle\u001b[0m\u001b[0;34m:\u001b[0m\u001b[0;34m\u001b[0m\u001b[0;34m\u001b[0m\u001b[0m\n\u001b[0;32m--> 444\u001b[0;31m                 raise ValueError(\"Cannot load file containing pickled data \"\n\u001b[0m\u001b[1;32m    445\u001b[0m                                  \"when allow_pickle=False\")\n\u001b[1;32m    446\u001b[0m             \u001b[0;32mtry\u001b[0m\u001b[0;34m:\u001b[0m\u001b[0;34m\u001b[0m\u001b[0;34m\u001b[0m\u001b[0m\n",
      "\u001b[0;31mValueError\u001b[0m: Cannot load file containing pickled data when allow_pickle=False"
     ]
    }
   ],
   "source": [
    "file_path = \"/Users/yumengluo/IdeaProjects/test/data/hw1-0.0.1-SNAPSHOT/controllers.PlayGame/checkMoveValid(Move,Message).txt\"\n",
    "dataset = np.load(file_path,allow_pickle=True)\n",
    "X, y = np.array(dataset['X']), np.array(dataset['y'], dtype=np.int)"
   ]
  },
  {
   "cell_type": "code",
   "execution_count": 45,
   "metadata": {},
   "outputs": [],
   "source": [
    "f = open(file_path, \"r\").read()"
   ]
  },
  {
   "cell_type": "code",
   "execution_count": 66,
   "metadata": {},
   "outputs": [],
   "source": [
    "line = f.split('\\n')"
   ]
  },
  {
   "cell_type": "code",
   "execution_count": 52,
   "metadata": {},
   "outputs": [
    {
     "data": {
      "text/plain": [
       "''"
      ]
     },
     "execution_count": 52,
     "metadata": {},
     "output_type": "execute_result"
    }
   ],
   "source": [
    "for i in range(128):\n",
    "    line[i].split('\\t')"
   ]
  },
  {
   "cell_type": "code",
   "execution_count": 70,
   "metadata": {},
   "outputs": [
    {
     "data": {
      "text/plain": [
       "['',\n",
       " '',\n",
       " '',\n",
       " '',\n",
       " '',\n",
       " '',\n",
       " '',\n",
       " '',\n",
       " '',\n",
       " '',\n",
       " '0, 12, 18, 30, 68',\n",
       " '',\n",
       " '',\n",
       " '',\n",
       " '',\n",
       " '',\n",
       " '',\n",
       " '',\n",
       " '',\n",
       " '',\n",
       " '0, 6, 18, 30, 68',\n",
       " '',\n",
       " '',\n",
       " '0, 6, 18, 30, 68',\n",
       " '',\n",
       " '',\n",
       " '',\n",
       " '',\n",
       " '',\n",
       " '0, 6, 18, 30, 68',\n",
       " '',\n",
       " '',\n",
       " '0, 6, 18, 30, 68',\n",
       " '',\n",
       " '',\n",
       " '',\n",
       " '',\n",
       " '',\n",
       " '',\n",
       " '',\n",
       " '',\n",
       " '',\n",
       " '',\n",
       " '',\n",
       " '',\n",
       " '',\n",
       " '',\n",
       " '81',\n",
       " '',\n",
       " '',\n",
       " '',\n",
       " '',\n",
       " '',\n",
       " '',\n",
       " '81',\n",
       " '',\n",
       " '81',\n",
       " '',\n",
       " '',\n",
       " '',\n",
       " '',\n",
       " '81',\n",
       " '',\n",
       " '81',\n",
       " '',\n",
       " '',\n",
       " '',\n",
       " '',\n",
       " '',\n",
       " '',\n",
       " '',\n",
       " '',\n",
       " '',\n",
       " '',\n",
       " '',\n",
       " '',\n",
       " '',\n",
       " '',\n",
       " '',\n",
       " '',\n",
       " '',\n",
       " '',\n",
       " '',\n",
       " '',\n",
       " '',\n",
       " '',\n",
       " '',\n",
       " '',\n",
       " '',\n",
       " '',\n",
       " '',\n",
       " '',\n",
       " '',\n",
       " '',\n",
       " '',\n",
       " '',\n",
       " '',\n",
       " '',\n",
       " '',\n",
       " '',\n",
       " '',\n",
       " '',\n",
       " '',\n",
       " '',\n",
       " '',\n",
       " '',\n",
       " '',\n",
       " '',\n",
       " '',\n",
       " '',\n",
       " '',\n",
       " '',\n",
       " '',\n",
       " '',\n",
       " '',\n",
       " '',\n",
       " '',\n",
       " '',\n",
       " '',\n",
       " '',\n",
       " '',\n",
       " '',\n",
       " '',\n",
       " '',\n",
       " '',\n",
       " '',\n",
       " '',\n",
       " '']"
      ]
     },
     "execution_count": 70,
     "metadata": {},
     "output_type": "execute_result"
    }
   ],
   "source": [
    "line[0][1:-2].split('}\\t{')"
   ]
  },
  {
   "cell_type": "code",
   "execution_count": 69,
   "metadata": {},
   "outputs": [
    {
     "data": {
      "text/plain": [
       "'}\\t{}\\t{}\\t{}\\t{}\\t{}\\t{}\\t{}\\t{}\\t{}\\t{0, 12, 18, 30, 68}\\t{}\\t{}\\t{}\\t{}\\t{}\\t{}\\t{}\\t{}\\t{}\\t{0, 6, 18, 30, 68}\\t{}\\t{}\\t{0, 6, 18, 30, 68}\\t{}\\t{}\\t{}\\t{}\\t{}\\t{0, 6, 18, 30, 68}\\t{}\\t{}\\t{0, 6, 18, 30, 68}\\t{}\\t{}\\t{}\\t{}\\t{}\\t{}\\t{}\\t{}\\t{}\\t{}\\t{}\\t{}\\t{}\\t{}\\t{81}\\t{}\\t{}\\t{}\\t{}\\t{}\\t{}\\t{81}\\t{}\\t{81}\\t{}\\t{}\\t{}\\t{}\\t{81}\\t{}\\t{81}\\t{}\\t{}\\t{}\\t{}\\t{}\\t{}\\t{}\\t{}\\t{}\\t{}\\t{}\\t{}\\t{}\\t{}\\t{}\\t{}\\t{}\\t{}\\t{}\\t{}\\t{}\\t{}\\t{}\\t{}\\t{}\\t{}\\t{}\\t{}\\t{}\\t{}\\t{}\\t{}\\t{}\\t{}\\t{}\\t{}\\t{}\\t{}\\t{}\\t{}\\t{}\\t{}\\t{}\\t{}\\t{}\\t{}\\t{}\\t{}\\t{}\\t{}\\t{}\\t{}\\t{}\\t{}\\t{}\\t{}\\t{}\\t{}\\t{}\\t{}\\t{}\\t{}\\t{}\\t{'"
      ]
     },
     "execution_count": 69,
     "metadata": {},
     "output_type": "execute_result"
    }
   ],
   "source": [
    "line[0][1:-2]"
   ]
  },
  {
   "cell_type": "code",
   "execution_count": null,
   "metadata": {},
   "outputs": [],
   "source": []
  }
 ],
 "metadata": {
  "kernelspec": {
   "display_name": "Python 3",
   "language": "python",
   "name": "python3"
  },
  "language_info": {
   "codemirror_mode": {
    "name": "ipython",
    "version": 3
   },
   "file_extension": ".py",
   "mimetype": "text/x-python",
   "name": "python",
   "nbconvert_exporter": "python",
   "pygments_lexer": "ipython3",
   "version": "3.7.10"
  }
 },
 "nbformat": 4,
 "nbformat_minor": 2
}
